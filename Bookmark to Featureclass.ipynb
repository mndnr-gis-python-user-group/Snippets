{
 "cells": [
  {
   "cell_type": "markdown",
   "metadata": {},
   "source": [
    "**Author:** Kate Carlson - kate.carlson@state.mn.us\n",
    "\n",
    "**Date:** 6/5/2023\n",
    "\n",
    "**Description:** This script converts a bookmark file (bkmx) into a feature classes. The primary use is to switch between a Bookmark Map Series and a spatial map series. "
   ]
  },
  {
   "cell_type": "code",
   "execution_count": null,
   "metadata": {},
   "outputs": [],
   "source": [
    "import arcpy\n",
    "import json\n",
    "\n",
    "aprx = arcpy.mp.ArcGISProject('current')\n",
    "arcpy.env.workspace\n",
    "\n",
    "f = open(r\"C:\\GIS_Projects\\Scripts\\Test_Scripts\\BookmarkFile.bkmx\")#location of bookmark files\n",
    "data=json.load(f)\n",
    "\n",
    "for i in data[\"bookmarks\"]:\n",
    "    name=i[\"name\"].replace(\" \", \"_\")\n",
    "    loc=i[\"location\"]\n",
    "    arcpy.management.CreateFeatureclass(arcpy.env.workspace,name, geometry_type=\"polygon\", spatial_reference=arcpy.SpatialReference(loc[\"spatialReference\"][\"wkid\"]))\n",
    "    \n",
    "    coordinates = [(loc[\"xmin\"],loc[\"ymin\"]),\n",
    "                   (loc[\"xmin\"],loc[\"ymax\"]),\n",
    "                   (loc[\"xmax\"],loc[\"ymax\"]),\n",
    "                   (loc[\"xmax\"],loc[\"ymin\"])]\n",
    "    with arcpy.da.InsertCursor(name, [\"SHAPE@\"]) as cursor:\n",
    "        cursor.insertRow([coordinates])\n",
    "    del cursor"
   ]
  },
  {
   "cell_type": "code",
   "execution_count": null,
   "metadata": {},
   "outputs": [],
   "source": []
  }
 ],
 "metadata": {
  "kernelspec": {
   "display_name": "ArcGISPro",
   "language": "Python",
   "name": "python3"
  },
  "language_info": {
   "file_extension": ".py",
   "name": "python",
   "version": "3"
  }
 },
 "nbformat": 4,
 "nbformat_minor": 2
}
